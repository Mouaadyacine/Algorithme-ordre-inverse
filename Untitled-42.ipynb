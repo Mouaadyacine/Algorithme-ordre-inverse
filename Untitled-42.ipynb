{
 "cells": [
  {
   "cell_type": "code",
   "execution_count": null,
   "metadata": {},
   "outputs": [],
   "source": [
    "variable \n",
    "  i:entier \n",
    "tableau \n",
    "  t(6):entier \n",
    "debut \n",
    "pour i recoit 0 a 5 pas 1 faire \n",
    "ecrire(\"entrer l'element numero\",i+1)\n",
    "lire(t(i))\n",
    "fin pour \n",
    "pour i recoit 5 a 0 pas -1 faire \n",
    "ecrire(t(i))\n",
    "fin pour \n",
    "fin "
   ]
  }
 ],
 "metadata": {
  "language_info": {
   "name": "python"
  }
 },
 "nbformat": 4,
 "nbformat_minor": 2
}
